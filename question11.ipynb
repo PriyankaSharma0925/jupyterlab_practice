{
 "cells": [
  {
   "cell_type": "markdown",
   "id": "813f9194-3b70-4b02-8e38-58c928dd7b74",
   "metadata": {},
   "source": [
    "# Priyanka Sharma\n",
    "Notebook for assignment 7"
   ]
  },
  {
   "cell_type": "code",
   "execution_count": 6,
   "id": "3b42b11b-035a-44d6-a4ae-614f8259d002",
   "metadata": {},
   "outputs": [],
   "source": [
    "def compute_mean(num_list):\n",
    "    sum=0\n",
    "    mean=0\n",
    "    for num in num_list:\n",
    "        sum=sum+num\n",
    "    mean=sum/len(num_list)\n",
    "    return mean\n",
    "    \n",
    "result=compute_mean([1,2,3,4,5])    \n",
    "        \n",
    "    "
   ]
  },
  {
   "cell_type": "code",
   "execution_count": 7,
   "id": "1bde775c-8b10-4d4f-876b-609e5369c5e5",
   "metadata": {},
   "outputs": [
    {
     "data": {
      "text/plain": [
       "3.0"
      ]
     },
     "execution_count": 7,
     "metadata": {},
     "output_type": "execute_result"
    }
   ],
   "source": [
    "result"
   ]
  },
  {
   "cell_type": "markdown",
   "id": "f853a24a-9b5e-4821-82c2-dd85617f4f35",
   "metadata": {},
   "source": [
    "Mean is calculated as sum of n observations divided by n.\n",
    "\n",
    "$\\bar{x} = \\frac{\\sum_{i=1}^{n} x_i}{n}$\n",
    "\n",
    "The above function takes a list of n numbers, calculates the sum and then divides it by n"
   ]
  },
  {
   "cell_type": "markdown",
   "id": "679b3452-e522-4cac-884d-654ff9b43f47",
   "metadata": {},
   "source": [
    "<img src=\"images/question_11.png\" width=50% >"
   ]
  },
  {
   "cell_type": "code",
   "execution_count": null,
   "id": "29f9887e-09f6-4a6b-b790-18b115d01f92",
   "metadata": {},
   "outputs": [],
   "source": []
  }
 ],
 "metadata": {
  "kernelspec": {
   "display_name": "Python 3 (ipykernel)",
   "language": "python",
   "name": "python3"
  },
  "language_info": {
   "codemirror_mode": {
    "name": "ipython",
    "version": 3
   },
   "file_extension": ".py",
   "mimetype": "text/x-python",
   "name": "python",
   "nbconvert_exporter": "python",
   "pygments_lexer": "ipython3",
   "version": "3.10.10"
  }
 },
 "nbformat": 4,
 "nbformat_minor": 5
}
